{
  "nbformat": 4,
  "nbformat_minor": 0,
  "metadata": {
    "colab": {
      "name": "Schwab API Example.ipynb",
      "provenance": [],
      "collapsed_sections": [],
      "toc_visible": true,
      "authorship_tag": "ABX9TyPpC4JgQPyLcyoL9Y0swDjw",
      "include_colab_link": true
    },
    "kernelspec": {
      "name": "python3",
      "display_name": "Python 3"
    },
    "language_info": {
      "name": "python"
    }
  },
  "cells": [
    {
      "cell_type": "markdown",
      "metadata": {
        "id": "view-in-github",
        "colab_type": "text"
      },
      "source": [
        "<a href=\"https://colab.research.google.com/github/itsjafer/schwab-api/blob/main/Schwab_API_Example.ipynb\" target=\"_parent\"><img src=\"https://colab.research.google.com/assets/colab-badge.svg\" alt=\"Open In Colab\"/></a>"
      ]
    },
    {
      "cell_type": "markdown",
      "metadata": {
        "id": "zQJkMkht9n3v"
      },
      "source": [
        "# Schwab API\n",
        "\n",
        "This is an notebook used to demonstrate the (Schwab API)[https://github.com/itsjafer/schwab-api]. You must install dependencies, update the main.py with your credentials, and then run it using the final cell."
      ]
    },
    {
      "cell_type": "markdown",
      "metadata": {
        "id": "D0pYkGrezuwl"
      },
      "source": [
        "# Install Dependencies"
      ]
    },
    {
      "cell_type": "code",
      "metadata": {
        "colab": {
          "base_uri": "https://localhost:8080/"
        },
        "id": "9wX1XwcN0SW4",
        "outputId": "9a0e22e1-40d8-448d-88ed-2fee18bbbc26"
      },
      "source": [
        "!apt-get update && apt-get install libx11-dev libxkbfile-dev libsecret-1-dev libnss3 libgbm-dev gconf-service libasound2 libatk1.0-0 libc6 libcairo2 libcups2 libdbus-1-3 \\\n",
        "    libexpat1 libfontconfig1 libgcc1 libgconf-2-4 libgdk-pixbuf2.0-0 libglib2.0-0 libgtk-3-0 libnspr4 \\\n",
        "    libpango-1.0-0 libpangocairo-1.0-0 libstdc++6 libx11-6 libx11-xcb1 libxcb1 libxcomposite1 \\\n",
        "    libxcursor1 libxdamage1 libxext6 libxfixes3 libxi6 libxrandr2 libxrender1 libxss1 libxtst6 \\\n",
        "    ca-certificates fonts-liberation libappindicator1 libnss3 lsb-release xdg-utils wget \\\n",
        "    xvfb x11vnc x11-xkb-utils xfonts-100dpi xfonts-75dpi xfonts-scalable xfonts-cyrillic x11-apps gconf-service libasound2 libatk1.0-0 libc6 libcairo2 libcups2 libdbus-1-3 libexpat1 libfontconfig1 libgcc1 libgconf-2-4 libgdk-pixbuf2.0-0 libglib2.0-0 libgtk-3-0 libnspr4 libpango-1.0-0 libpangocairo-1.0-0 libstdc++6 libx11-6 libx11-xcb1 libxcb1 libxcomposite1 libxcursor1 libxdamage1 libxext6 libxfixes3 libxi6 libxrandr2 libxrender1 libxss1 libxtst6 ca-certificates fonts-liberation libappindicator1 libnss3 lsb-release xdg-utils wget x11vnc x11-xkb-utils xfonts-100dpi xfonts-75dpi xfonts-scalable xfonts-cyrillic x11-apps xvfb\n",
        "\n",
        "%env DISPLAY=:99\n",
        "%env PYTHONUNBUFFERED=True\n",
        "\n",
        "!pip install schwab-api==0.2.2 --no-cache-dir\n",
        "!python -m playwright install"
      ],
      "execution_count": 24,
      "outputs": [
        {
          "output_type": "stream",
          "name": "stdout",
          "text": [
            "\r0% [Working]\r            \rHit:1 http://ppa.launchpad.net/c2d4u.team/c2d4u4.0+/ubuntu bionic InRelease\n",
            "\r0% [Connecting to archive.ubuntu.com (91.189.88.152)] [Connecting to security.u\r                                                                               \rHit:2 http://archive.ubuntu.com/ubuntu bionic InRelease\n",
            "\r0% [Waiting for headers] [Connecting to security.ubuntu.com (91.189.91.38)] [Co\r                                                                               \rHit:3 http://ppa.launchpad.net/cran/libgit2/ubuntu bionic InRelease\n",
            "\r0% [Waiting for headers] [Connecting to security.ubuntu.com (91.189.91.38)] [Co\r0% [1 InRelease gpgv 15.9 kB] [Waiting for headers] [Connecting to security.ubu\r                                                                               \rGet:4 http://archive.ubuntu.com/ubuntu bionic-updates InRelease [88.7 kB]\n",
            "\r0% [1 InRelease gpgv 15.9 kB] [4 InRelease 14.2 kB/88.7 kB 16%] [Connecting to \r                                                                               \rHit:5 https://cloud.r-project.org/bin/linux/ubuntu bionic-cran40/ InRelease\n",
            "\r0% [1 InRelease gpgv 15.9 kB] [4 InRelease 15.6 kB/88.7 kB 18%] [Connecting to \r                                                                               \rHit:6 http://ppa.launchpad.net/deadsnakes/ppa/ubuntu bionic InRelease\n",
            "\r0% [1 InRelease gpgv 15.9 kB] [4 InRelease 47.5 kB/88.7 kB 54%] [Connecting to \r0% [1 InRelease gpgv 15.9 kB] [Waiting for headers] [Connecting to security.ubu\r                                                                               \rGet:7 http://archive.ubuntu.com/ubuntu bionic-backports InRelease [74.6 kB]\n",
            "\r0% [1 InRelease gpgv 15.9 kB] [7 InRelease 20.0 kB/74.6 kB 27%] [Connecting to \r                                                                               \rHit:8 http://ppa.launchpad.net/graphics-drivers/ppa/ubuntu bionic InRelease\n",
            "Get:9 http://security.ubuntu.com/ubuntu bionic-security InRelease [88.7 kB]\n",
            "Ign:10 https://developer.download.nvidia.com/compute/cuda/repos/ubuntu1804/x86_64  InRelease\n",
            "Ign:11 https://developer.download.nvidia.com/compute/machine-learning/repos/ubuntu1804/x86_64  InRelease\n",
            "Hit:12 https://developer.download.nvidia.com/compute/cuda/repos/ubuntu1804/x86_64  Release\n",
            "Hit:13 https://developer.download.nvidia.com/compute/machine-learning/repos/ubuntu1804/x86_64  Release\n",
            "Fetched 252 kB in 2s (106 kB/s)\n",
            "Reading package lists... Done\n",
            "Reading package lists... Done\n",
            "Building dependency tree       \n",
            "Reading state information... Done\n",
            "libatk1.0-0 is already the newest version (2.28.1-1).\n",
            "libfontconfig1 is already the newest version (2.12.6-0ubuntu2).\n",
            "libgdk-pixbuf2.0-0 is already the newest version (2.36.11-2).\n",
            "libnspr4 is already the newest version (2:4.18-1ubuntu1).\n",
            "libxcomposite1 is already the newest version (1:0.4.4-2).\n",
            "libxcursor1 is already the newest version (1:1.1.15-1).\n",
            "libxdamage1 is already the newest version (1:1.1.4-3).\n",
            "libxext6 is already the newest version (2:1.3.3-1).\n",
            "libxfixes3 is already the newest version (1:5.0.3-1).\n",
            "libxi6 is already the newest version (2:1.7.9-1).\n",
            "libxrandr2 is already the newest version (2:1.5.1-1).\n",
            "libxrender1 is already the newest version (1:0.9.10-1).\n",
            "libxss1 is already the newest version (1:1.2.2-1).\n",
            "libxtst6 is already the newest version (2:1.2.3-1).\n",
            "lsb-release is already the newest version (9.20170808ubuntu1).\n",
            "x11-apps is already the newest version (7.7+6ubuntu1).\n",
            "xfonts-scalable is already the newest version (1:1.0.3-1.1).\n",
            "gconf-service is already the newest version (3.2.6-4ubuntu1).\n",
            "libgconf-2-4 is already the newest version (3.2.6-4ubuntu1).\n",
            "x11vnc is already the newest version (0.9.13-3).\n",
            "xfonts-100dpi is already the newest version (1:1.0.4+nmu1).\n",
            "xfonts-75dpi is already the newest version (1:1.0.4+nmu1).\n",
            "xfonts-cyrillic is already the newest version (1:1.0.4).\n",
            "ca-certificates is already the newest version (20210119~18.04.1).\n",
            "fonts-liberation is already the newest version (1:1.07.4-7~18.04.1).\n",
            "libasound2 is already the newest version (1.1.3-5ubuntu0.6).\n",
            "libc6 is already the newest version (2.27-3ubuntu1.4).\n",
            "libcairo2 is already the newest version (1.15.10-2ubuntu0.1).\n",
            "libcups2 is already the newest version (2.2.7-1ubuntu2.8).\n",
            "libdbus-1-3 is already the newest version (1.12.2-1ubuntu1.2).\n",
            "libexpat1 is already the newest version (2.2.5-3ubuntu0.2).\n",
            "libgcc1 is already the newest version (1:8.4.0-1ubuntu1~18.04).\n",
            "libglib2.0-0 is already the newest version (2.56.4-0ubuntu0.18.04.8).\n",
            "libgtk-3-0 is already the newest version (3.22.30-1ubuntu4).\n",
            "libnss3 is already the newest version (2:3.35-2ubuntu2.12).\n",
            "libpango-1.0-0 is already the newest version (1.40.14-1ubuntu0.1).\n",
            "libpangocairo-1.0-0 is already the newest version (1.40.14-1ubuntu0.1).\n",
            "libstdc++6 is already the newest version (8.4.0-1ubuntu1~18.04).\n",
            "libx11-6 is already the newest version (2:1.6.4-3ubuntu0.4).\n",
            "libx11-dev is already the newest version (2:1.6.4-3ubuntu0.4).\n",
            "libx11-dev set to manually installed.\n",
            "libx11-xcb1 is already the newest version (2:1.6.4-3ubuntu0.4).\n",
            "libxcb1 is already the newest version (1.13-2~ubuntu18.04).\n",
            "wget is already the newest version (1.19.4-1ubuntu2.2).\n",
            "x11-xkb-utils is already the newest version (7.7+3ubuntu0.18.04.1).\n",
            "xdg-utils is already the newest version (1.1.2-1ubuntu2.5).\n",
            "libappindicator1 is already the newest version (12.10.1+18.04.20200408.1-0ubuntu1).\n",
            "xvfb is already the newest version (2:1.19.6-1ubuntu4.9).\n",
            "The following additional packages will be installed:\n",
            "  gir1.2-secret-1\n",
            "The following NEW packages will be installed:\n",
            "  gir1.2-secret-1 libgbm-dev libsecret-1-dev libxkbfile-dev\n",
            "0 upgraded, 4 newly installed, 0 to remove and 61 not upgraded.\n",
            "Need to get 266 kB of archives.\n",
            "After this operation, 2,652 kB of additional disk space will be used.\n",
            "Get:1 http://archive.ubuntu.com/ubuntu bionic/main amd64 gir1.2-secret-1 amd64 0.18.6-1 [7,440 B]\n",
            "Get:2 http://archive.ubuntu.com/ubuntu bionic-updates/main amd64 libgbm-dev amd64 20.0.8-0ubuntu1~18.04.1 [8,992 B]\n",
            "Get:3 http://archive.ubuntu.com/ubuntu bionic/main amd64 libsecret-1-dev amd64 0.18.6-1 [176 kB]\n",
            "Get:4 http://archive.ubuntu.com/ubuntu bionic/main amd64 libxkbfile-dev amd64 1:1.0.9-2 [74.3 kB]\n",
            "Fetched 266 kB in 0s (3,494 kB/s)\n",
            "Selecting previously unselected package gir1.2-secret-1:amd64.\n",
            "(Reading database ... 159217 files and directories currently installed.)\n",
            "Preparing to unpack .../gir1.2-secret-1_0.18.6-1_amd64.deb ...\n",
            "Unpacking gir1.2-secret-1:amd64 (0.18.6-1) ...\n",
            "Selecting previously unselected package libgbm-dev:amd64.\n",
            "Preparing to unpack .../libgbm-dev_20.0.8-0ubuntu1~18.04.1_amd64.deb ...\n",
            "Unpacking libgbm-dev:amd64 (20.0.8-0ubuntu1~18.04.1) ...\n",
            "Selecting previously unselected package libsecret-1-dev:amd64.\n",
            "Preparing to unpack .../libsecret-1-dev_0.18.6-1_amd64.deb ...\n",
            "Unpacking libsecret-1-dev:amd64 (0.18.6-1) ...\n",
            "Selecting previously unselected package libxkbfile-dev:amd64.\n",
            "Preparing to unpack .../libxkbfile-dev_1%3a1.0.9-2_amd64.deb ...\n",
            "Unpacking libxkbfile-dev:amd64 (1:1.0.9-2) ...\n",
            "Setting up libxkbfile-dev:amd64 (1:1.0.9-2) ...\n",
            "Setting up gir1.2-secret-1:amd64 (0.18.6-1) ...\n",
            "Setting up libgbm-dev:amd64 (20.0.8-0ubuntu1~18.04.1) ...\n",
            "Setting up libsecret-1-dev:amd64 (0.18.6-1) ...\n",
            "env: DISPLAY=:99\n",
            "env: PYTHONUNBUFFERED=True\n",
            "Requirement already satisfied: schwab-api==0.2.2 in /usr/local/lib/python3.7/dist-packages (0.2.2)\n",
            "Requirement already satisfied: playwright-stealth in /usr/local/lib/python3.7/dist-packages (from schwab-api==0.2.2) (1.0.5)\n",
            "Requirement already satisfied: python-vipaccess in /usr/local/lib/python3.7/dist-packages (from schwab-api==0.2.2) (0.13)\n",
            "Requirement already satisfied: pyotp in /usr/local/lib/python3.7/dist-packages (from schwab-api==0.2.2) (2.6.0)\n",
            "Requirement already satisfied: playwright in /usr/local/lib/python3.7/dist-packages (from schwab-api==0.2.2) (1.15.0)\n",
            "Requirement already satisfied: greenlet>=1.0.0 in /usr/local/lib/python3.7/dist-packages (from playwright->schwab-api==0.2.2) (1.1.1)\n",
            "Requirement already satisfied: websockets>=8.1 in /usr/local/lib/python3.7/dist-packages (from playwright->schwab-api==0.2.2) (10.0)\n",
            "Requirement already satisfied: typing-extensions in /usr/local/lib/python3.7/dist-packages (from playwright->schwab-api==0.2.2) (3.7.4.3)\n",
            "Requirement already satisfied: pyee>=8.0.1 in /usr/local/lib/python3.7/dist-packages (from playwright->schwab-api==0.2.2) (8.2.2)\n",
            "Requirement already satisfied: oath>=1.4.1 in /usr/local/lib/python3.7/dist-packages (from python-vipaccess->schwab-api==0.2.2) (1.4.3)\n",
            "Requirement already satisfied: requests in /usr/local/lib/python3.7/dist-packages (from python-vipaccess->schwab-api==0.2.2) (2.23.0)\n",
            "Requirement already satisfied: pycryptodome>=3.6.6 in /usr/local/lib/python3.7/dist-packages (from python-vipaccess->schwab-api==0.2.2) (3.10.1)\n",
            "Requirement already satisfied: certifi>=2017.4.17 in /usr/local/lib/python3.7/dist-packages (from requests->python-vipaccess->schwab-api==0.2.2) (2021.5.30)\n",
            "Requirement already satisfied: idna<3,>=2.5 in /usr/local/lib/python3.7/dist-packages (from requests->python-vipaccess->schwab-api==0.2.2) (2.10)\n",
            "Requirement already satisfied: urllib3!=1.25.0,!=1.25.1,<1.26,>=1.21.1 in /usr/local/lib/python3.7/dist-packages (from requests->python-vipaccess->schwab-api==0.2.2) (1.24.3)\n",
            "Requirement already satisfied: chardet<4,>=3.0.2 in /usr/local/lib/python3.7/dist-packages (from requests->python-vipaccess->schwab-api==0.2.2) (3.0.4)\n"
          ]
        }
      ]
    },
    {
      "cell_type": "markdown",
      "metadata": {
        "id": "94H9PLvK1iDp"
      },
      "source": [
        "# Write our script that we'll be running\n"
      ]
    },
    {
      "cell_type": "code",
      "metadata": {
        "id": "We8KtZjUVDZY",
        "colab": {
          "base_uri": "https://localhost:8080/"
        },
        "outputId": "ba61944c-c26b-471e-bfb8-392d1a5c9a0d"
      },
      "source": [
        "%%writefile main.py\n",
        "from schwab_api import Schwab\n",
        "import pprint\n",
        "\n",
        "# Change these variables\n",
        "username = \"username\"\n",
        "password = \"password\"\n",
        "totp_secret = \"ABCDEFGHIJKLMNOPQRSTUVWXYZABCDEF\"\n",
        "\n",
        "# Create the schwab instance\n",
        "api = Schwab(\n",
        "    headless=True, \n",
        "    browserType=\"webkit\"\n",
        ")\n",
        "\n",
        "# Login using playwright\n",
        "print(\"Logging into Schwab\")\n",
        "logged_in = api.login(\n",
        "    username=username,\n",
        "    password=password,\n",
        "    totp_secret=totp_secret # Get this by generating TOTP at https://itsjafer.com/#/schwab\n",
        ")\n",
        "\n",
        "# Get information about all accounts holdings\n",
        "print(\"Getting account holdings information\")\n",
        "account_info = api.get_account_info()\n",
        "pprint.pprint(account_info)\n",
        "print(\"The following account numbers were found: \" + str(account_info.keys()))\n",
        "\n",
        "\n",
        "# Place a dry run trade for each account\n",
        "print(\"Placing a dry run trade for AAPL stock\")\n",
        "messages, success = api.trade(\n",
        "    ticker=\"AAPL\", \n",
        "    side=\"Buy\", #or Sell\n",
        "    qty=1, \n",
        "    account_id=next(iter(account_info)), # Replace with your account number\n",
        "    dry_run=True # If dry_run=True, we won't place the order, we'll just verify it.\n",
        ")\n",
        "\n",
        "print(\"The order verification was \" + \"successful\" if success else \"unsuccessful\")\n",
        "print(\"The order verification produced the following messages: \")\n",
        "pprint.pprint(messages)"
      ],
      "execution_count": 45,
      "outputs": [
        {
          "output_type": "stream",
          "name": "stdout",
          "text": [
            "Writing main.py\n"
          ]
        }
      ]
    },
    {
      "cell_type": "markdown",
      "metadata": {
        "id": "T353KYZ88_RF"
      },
      "source": [
        "# Run the script"
      ]
    },
    {
      "cell_type": "code",
      "metadata": {
        "colab": {
          "base_uri": "https://localhost:8080/"
        },
        "id": "pxoXIr2H6Ior",
        "outputId": "28fadcbf-38e9-4dbb-da8c-9476063747cb"
      },
      "source": [
        "!python main.py"
      ],
      "execution_count": 43,
      "outputs": [
        {
          "output_type": "stream",
          "name": "stdout",
          "text": [
            "Logging into Schwab\n"
          ]
        }
      ]
    }
  ]
}